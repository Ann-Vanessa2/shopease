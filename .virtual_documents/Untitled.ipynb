import pandas as pd
import numpy as np


orders_df = pd.read_csv('Orders.csv')
products_df = pd.read_csv('products.csv')
orders_items_df = pd.read_csv('order_items.csv')
customers_df = pd.read_csv('customers.csv')
inventory_df = pd.read_csv('inventory.csv')
suppliers_df = pd.read_csv('suppliers_data.csv')

dataframes = [orders_df, products_df, orders_items_df, customers_df, inventory_df, suppliers_df]



